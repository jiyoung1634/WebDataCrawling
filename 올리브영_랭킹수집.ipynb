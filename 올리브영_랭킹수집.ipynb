{
 "cells": [
  {
   "cell_type": "code",
   "execution_count": 8,
   "id": "f5758973",
   "metadata": {},
   "outputs": [],
   "source": [
    "query = '''\n",
    "CREATE TABLE IF NOT EXISTS BOOKS(\n",
    "    RANK INTEGER PRIMARY KEY,\n",
    "    NAME TEXT,\n",
    "    PRICE INTEGER,\n",
    "    SALES INTEGER\n",
    ")\n",
    "'''"
   ]
  },
  {
   "cell_type": "code",
   "execution_count": 9,
   "id": "021b4068",
   "metadata": {},
   "outputs": [],
   "source": [
    "import pymysql\n",
    "# MySQL 서버에 연결\n",
    "conn = pymysql.connect(host='localhost', user='root', password='1234',  db='my_db',\n",
    " charset='utf8') # 한글처리 (charset = 'utf8’)\n",
    "# 커서 생성\n",
    "cursor = conn.cursor()"
   ]
  },
  {
   "cell_type": "code",
   "execution_count": 10,
   "id": "fa4e6160",
   "metadata": {},
   "outputs": [
    {
     "data": {
      "text/plain": [
       "0"
      ]
     },
     "execution_count": 10,
     "metadata": {},
     "output_type": "execute_result"
    }
   ],
   "source": [
    "cursor.execute(\"CREATE DATABASE IF NOT EXISTS oliveyoung DEFAULT CHARACTER SET utf8mb4\")\n",
    "cursor.execute(\"USE oliveyoung\")  # DB 선택"
   ]
  },
  {
   "cell_type": "code",
   "execution_count": null,
   "id": "e6b1aa8f",
   "metadata": {},
   "outputs": [],
   "source": [
    "create_table = '''\n",
    "CREATE TABLE IF NOT EXISTS oliveyoung (\n",
    "    id INT AUTO_INCREMENT PRIMARY KEY,\n",
    "    `RANK` INT,\n",
    "    NAME VARCHAR(255),\n",
    "    PRICE VARCHAR(50),\n",
    "    SALES VARCHAR(50)\n",
    ")\n",
    "'''\n",
    "cursor.execute(create_table)\n",
    "\n",
    "ins_query = ''' \n",
    "INSERT INTO oliveyoung (`RANK`, TITLE, PRICE, SALES) VALUES (%s, %s, %s, %s)\n",
    "''' \n",
    "\n",
    "for book in oliveyoung_list:\n",
    "    cursor.execute(ins_query, book.to_list())\n",
    "conn.commit()\n",
    " # 연결과 커서 닫기\n",
    "cursor.close()\n",
    "conn.close()"
   ]
  },
  {
   "cell_type": "code",
   "execution_count": null,
   "id": "194708ea",
   "metadata": {},
   "outputs": [],
   "source": []
  },
  {
   "cell_type": "markdown",
   "id": "4145b3de",
   "metadata": {},
   "source": [
    "# 올리브영 메이크업 데이터 수집 및 저장"
   ]
  },
  {
   "cell_type": "code",
   "execution_count": 18,
   "id": "712141a9",
   "metadata": {},
   "outputs": [],
   "source": [
    "from selenium import webdriver\n",
    "from selenium.webdriver.chrome.service import Service\n",
    "# ChromeDriverManager를 임포트합니다.\n",
    "from webdriver_manager.chrome import ChromeDriverManager \n",
    "\n",
    "from selenium.webdriver.common.by import By\n",
    "from selenium.webdriver.support.ui import WebDriverWait\n",
    "from selenium.webdriver.support import expected_conditions as EC\n",
    "from bs4 import BeautifulSoup\n",
    "import pandas as pd\n",
    "import time # 페이지 로드를 위해 잠시 기다릴 때 사용"
   ]
  },
  {
   "cell_type": "code",
   "execution_count": 19,
   "id": "078d0d51",
   "metadata": {},
   "outputs": [
    {
     "name": "stdout",
     "output_type": "stream",
     "text": [
      "Selenium으로 웹 페이지 로드 중: https://www.oliveyoung.co.kr/store/main/getBestList.do?dispCatNo=900000100100001&fltDispCatNo=10000010002&pageIdx=1&rowsPerPage=8&t_page=%EB%9E%AD%ED%82%B9&t_click=%ED%8C%90%EB%A7%A4%EB%9E%AD%ED%82%B9_%EB%A9%94%EC%9D%B4%ED%81%AC%EC%97%85\n",
      "상품 목록 요소가 성공적으로 로드되었습니다.\n",
      "찾은 상품 아이템 개수: 100\n",
      "✅ 올리브영 메이크업 랭킹 데이터 저장 완료!\n"
     ]
    }
   ],
   "source": [
    "# 1. 크롬 드라이버 설정 (webdriver-manager가 자동으로 처리)\n",
    "# 이 한 줄이 크롬 드라이버를 자동으로 찾아주고, 없으면 다운로드까지 해줍니다.\n",
    "service = Service(ChromeDriverManager().install()) \n",
    "\n",
    "# 2. 웹 드라이버 옵션 설정\n",
    "# headless 모드: 브라우저 창이 뜨지 않고 백그라운드에서 실행됩니다.\n",
    "# 창을 직접 보고 싶으면 'options.add_argument('headless')' 줄을 주석 처리하거나 삭제하세요.\n",
    "options = webdriver.ChromeOptions()\n",
    "options.add_argument('headless') \n",
    "options.add_argument('window-size=1920x1080') # 화면 크기 설정 (일부 웹사이트는 화면 크기에 따라 UI가 달라질 수 있음)\n",
    "# User-Agent 설정: 일반적인 브라우저처럼 보이게 하여 봇 감지를 회피하는 데 도움을 줍니다.\n",
    "options.add_argument('user-agent=Mozilla/5.0 (Windows NT 10.0; Win64; x64) AppleWebKit/537.36 (KHTML, like Gecko) Chrome/91.0.4472.124 Safari/537.36')\n",
    "\n",
    "# 3. 웹 드라이버 실행\n",
    "driver = webdriver.Chrome(service=service, options=options)\n",
    "\n",
    "# 타겟 URL\n",
    "url = \"https://www.oliveyoung.co.kr/store/main/getBestList.do?dispCatNo=900000100100001&fltDispCatNo=10000010002&pageIdx=1&rowsPerPage=8&t_page=%EB%9E%AD%ED%82%B9&t_click=%ED%8C%90%EB%A7%A4%EB%9E%AD%ED%82%B9_%EB%A9%94%EC%9D%B4%ED%81%AC%EC%97%85\"\n",
    "\n",
    "print(f\"Selenium으로 웹 페이지 로드 중: {url}\")\n",
    "driver.get(url) # 웹페이지 로드\n",
    "\n",
    "# 4. 페이지 콘텐츠가 완전히 로드될 때까지 명시적으로 기다리기\n",
    "# 'ul.cate_prd_list > li' 요소 (상품 목록의 첫 번째 아이템)가 페이지에 나타날 때까지 최대 10초 대기합니다.\n",
    "# 이렇게 하면 JavaScript가 모든 내용을 로드할 시간을 줍니다.\n",
    "try:\n",
    "    WebDriverWait(driver, 10).until(\n",
    "        EC.presence_of_element_located((By.CSS_SELECTOR, \"ul.cate_prd_list > li\"))\n",
    "    )\n",
    "    print(\"상품 목록 요소가 성공적으로 로드되었습니다.\")\n",
    "except Exception as e:\n",
    "    print(f\"상품 목록 로드 대기 중 시간 초과 또는 오류 발생: {e}\")\n",
    "    print(\"페이지가 완전히 로드되지 않았거나, 셀렉터가 변경되었을 수 있습니다.\")\n",
    "    # 오류 발생 시 현재 로드된 HTML을 출력하여 디버깅에 활용할 수 있습니다:\n",
    "    # print(driver.page_source) \n",
    "\n",
    "# 5. 브라우저가 렌더링한 최종 HTML 콘텐츠 가져오기\n",
    "# 이제 JavaScript가 실행된 후의 HTML을 가져옵니다.\n",
    "html_content = driver.page_source\n",
    "\n",
    "# 6. BeautifulSoup으로 HTML 파싱\n",
    "soup = BeautifulSoup(html_content, 'html.parser')\n",
    "\n",
    "# 7. 상품 목록 추출\n",
    "# 이제 이 'items' 리스트의 순서는 웹 페이지에서 보이는 순서와 일치할 것입니다.\n",
    "items = soup.select(\"ul.cate_prd_list > li\")\n",
    "\n",
    "print(f\"찾은 상품 아이템 개수: {len(items)}\")\n",
    "\n",
    "products = []\n",
    "rank_counter = 1 # 순위를 위한 카운터 변수 초기화\n",
    "\n",
    "for item in items:\n",
    "    # 순위 정보 추출 (웹페이지에서 보이는 순서대로 1, 2, 3... 부여)\n",
    "    # Selenium을 사용하면 HTML에 보이는 순서가 페이지 순서와 일치하므로,\n",
    "    # 굳이 span.thumb_flag.best를 추출하지 않고 순차 번호를 부여하는 것이 더 확실합니다.\n",
    "    rank = str(rank_counter) \n",
    "    \n",
    "    # 상품명 추출\n",
    "    name_tag = item.select_one(\"div.prd_name a\")\n",
    "    name = name_tag.text.strip() if name_tag else None\n",
    "\n",
    "    # 가격 추출\n",
    "    price_nums = item.select(\"p.prd_price span.tx_num\")\n",
    "    original_price = None\n",
    "    discounted_price = None\n",
    "\n",
    "    if price_nums:\n",
    "        if len(price_nums) > 1: # 할인가가 있는 경우 (두 개의 span.tx_num)\n",
    "            original_price = price_nums[0].text.strip()\n",
    "            discounted_price = price_nums[1].text.strip()\n",
    "        else: # 할인가가 없는 경우 (하나의 span.tx_num)\n",
    "            original_price = price_nums[0].text.strip()\n",
    "            discounted_price = price_nums[0].text.strip() # 할인가를 정가와 동일하게 설정\n",
    "\n",
    "    if name: # 상품명이 추출되었을 경우에만 리스트에 추가\n",
    "        products.append({\n",
    "            \"순위\": rank, \n",
    "            \"상품명\": name,\n",
    "            \"정가\": original_price,\n",
    "            \"할인가\": discounted_price\n",
    "        })\n",
    "        rank_counter += 1 # 다음 상품을 위해 순위 카운터 증가\n",
    "\n",
    "# 8. Pandas DataFrame 생성 및 CSV 저장\n",
    "df = pd.DataFrame(products)\n",
    "df.to_csv(\"oliveyoung_makeup.csv\", index=False, encoding=\"utf-8-sig\")\n",
    "print(\"✅ 올리브영 메이크업 랭킹 데이터 저장 완료!\")\n",
    "\n",
    "# 9. 웹 드라이버 종료 (매우 중요! 브라우저 프로세스를 닫습니다)\n",
    "driver.quit()"
   ]
  },
  {
   "cell_type": "markdown",
   "id": "b7817cdf",
   "metadata": {},
   "source": [
    "# SQL에 데이터 넣기"
   ]
  },
  {
   "cell_type": "code",
   "execution_count": 24,
   "id": "335ade6d",
   "metadata": {},
   "outputs": [
    {
     "name": "stdout",
     "output_type": "stream",
     "text": [
      "SQLite 저장 완료: oliveyoung.db, 총 100 개\n"
     ]
    }
   ],
   "source": [
    "import sqlite3\n",
    "\n",
    "# SQLite 연결 및 DB 파일 생성 (없으면 자동 생성)\n",
    "conn = sqlite3.connect(\"oliveyoung.db\")\n",
    "cursor = conn.cursor()\n",
    "\n",
    "# 테이블 생성 (없으면 생성)\n",
    "cursor.execute(\"\"\"\n",
    "CREATE TABLE IF NOT EXISTS oliveyoung_makeup_ranking (\n",
    "    id INTEGER PRIMARY KEY AUTOINCREMENT,\n",
    "    순위 INTEGER,\n",
    "    상품명 TEXT NOT NULL,\n",
    "    정가 TEXT,\n",
    "    할인가 TEXT\n",
    ")\n",
    "\"\"\")\n",
    "\n",
    "# 데이터 삽입\n",
    "insert_query = \"\"\"\n",
    "INSERT INTO oliveyoung_makeup_ranking (순위, 상품명, 정가, 할인가)\n",
    "VALUES (?, ?, ?, ?)\n",
    "\"\"\"\n",
    "\n",
    "for _, row in df.iterrows():\n",
    "    values = (\n",
    "        int(row[\"순위\"]),\n",
    "        row[\"상품명\"],\n",
    "        row[\"정가\"],\n",
    "        row[\"할인가\"]\n",
    "    )\n",
    "    cursor.execute(insert_query, values)\n",
    "\n",
    "# 커밋 및 연결 종료\n",
    "conn.commit()\n",
    "conn.close()\n",
    "\n",
    "print(\"SQLite 저장 완료: oliveyoung.db, 총\", len(df), \"개\")"
   ]
  },
  {
   "cell_type": "code",
   "execution_count": 25,
   "id": "02ecd95e",
   "metadata": {},
   "outputs": [
    {
     "name": "stdout",
     "output_type": "stream",
     "text": [
      "MySQL DB 저장 완료! 총 100 개\n"
     ]
    }
   ],
   "source": [
    "import pymysql\n",
    "\n",
    "# MySQL 연결 설정\n",
    "conn = pymysql.connect(\n",
    "    host='localhost',       # 또는 '127.0.0.1'\n",
    "    user='root',            # 사용자 이름\n",
    "    password='1234',        # 비밀번호\n",
    "    database='oliveyoung',  # 위에서 만든 DB 이름\n",
    "    charset='utf8mb4',\n",
    "    autocommit=True\n",
    ")\n",
    "\n",
    "cursor = conn.cursor()\n",
    "\n",
    "# 테이블 생성 (없으면 생성)\n",
    "cursor.execute(\"\"\"\n",
    "CREATE TABLE IF NOT EXISTS oliveyoung_makeup_ranking (\n",
    "    id INT AUTO_INCREMENT PRIMARY KEY,\n",
    "    순위 INT,\n",
    "    상품명 VARCHAR(255) NOT NULL,\n",
    "    정가 VARCHAR(50),\n",
    "    할인가 VARCHAR(50)\n",
    ")\n",
    "\"\"\")\n",
    "\n",
    "# 데이터 삽입\n",
    "insert_query = \"\"\"\n",
    "INSERT INTO oliveyoung_makeup_ranking (순위, 상품명, 정가, 할인가)\n",
    "VALUES (%s, %s, %s, %s)\n",
    "\"\"\"\n",
    "\n",
    "for _, row in df.iterrows():\n",
    "    values = (\n",
    "        int(row[\"순위\"]),\n",
    "        row[\"상품명\"],\n",
    "        row[\"정가\"],\n",
    "        row[\"할인가\"]\n",
    "    )\n",
    "    cursor.execute(insert_query, values)\n",
    "\n",
    "# 종료\n",
    "cursor.close()\n",
    "conn.close()\n",
    "\n",
    "print(\"MySQL DB 저장 완료! 총\", len(df), \"개\")"
   ]
  },
  {
   "cell_type": "code",
   "execution_count": null,
   "id": "dc2e34c2",
   "metadata": {},
   "outputs": [],
   "source": []
  }
 ],
 "metadata": {
  "kernelspec": {
   "display_name": "webcrawl_env",
   "language": "python",
   "name": "python3"
  },
  "language_info": {
   "codemirror_mode": {
    "name": "ipython",
    "version": 3
   },
   "file_extension": ".py",
   "mimetype": "text/x-python",
   "name": "python",
   "nbconvert_exporter": "python",
   "pygments_lexer": "ipython3",
   "version": "3.10.18"
  }
 },
 "nbformat": 4,
 "nbformat_minor": 5
}
